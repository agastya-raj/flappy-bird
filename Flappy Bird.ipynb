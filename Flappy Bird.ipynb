{
 "cells": [
  {
   "cell_type": "code",
   "execution_count": 1,
   "metadata": {
    "collapsed": true
   },
   "outputs": [],
   "source": [
    "import pygame as game\n",
    "from pygame.locals import *\n",
    "from collections import deque\n",
    "import random\n",
    "import os\n",
    "os.chdir(\"/home/agastya/flappy-bird\")"
   ]
  },
  {
   "cell_type": "code",
   "execution_count": 2,
   "metadata": {
    "collapsed": true
   },
   "outputs": [],
   "source": [
    "bird_sprite = game.image.load(\"bird.png\")\n",
    "g = 0.0017 #gravity\n",
    "bird_height = 80\n",
    "bird_width = 80\n",
    "bird_velocity = 0.1\n",
    "init_x = 10\n",
    "init_y = 200\n",
    "pipe_width = 100\n",
    "pipe_piece_height = 15\n",
    "pipe_add_rate = 750\n",
    "pipe_scroll_speed = 0.5\n",
    "screen_width = 500\n",
    "screen_height = 600\n",
    "game.init()\n",
    "screen = game.display.set_mode((screen_width, screen_height))\n",
    "myfont = game.font.SysFont(\"monospace\", 32)"
   ]
  },
  {
   "cell_type": "code",
   "execution_count": 3,
   "metadata": {
    "collapsed": true
   },
   "outputs": [],
   "source": [
    "class Bird(game.sprite.Sprite):\n",
    "    \"\"\"Initialization and update of motion parameters\"\"\"\n",
    "    \n",
    "    def __init__(self):\n",
    "        game.sprite.Sprite.__init__(self)\n",
    "        self.x = init_x\n",
    "        self.y = init_y\n",
    "        \n",
    "        #fitting bird.png in bounding box\n",
    "        self.sprite = game.transform.scale(bird_sprite, (bird_height, bird_width))\n",
    "        self.velocity = bird_velocity\n",
    "        self.mask = game.mask.from_surface(self.sprite)\n",
    "        \n",
    "    def update_no_flap(self):\n",
    "        self.velocity += g\n",
    "        self.y += self.velocity\n",
    "    \n",
    "    def update_flap(self):\n",
    "        self.velocity -= bird_velocity*10\n",
    "        if self.velocity < -bird_velocity*5:\n",
    "            self.velocity -= -bird_velocity*5\n",
    "    \n",
    "    #new copy of bounding box of bird\n",
    "    @property\n",
    "    def rect(self):\n",
    "        return Rect(self.x, self.y, bird_height, bird_width)"
   ]
  },
  {
   "cell_type": "code",
   "execution_count": 4,
   "metadata": {
    "collapsed": true
   },
   "outputs": [],
   "source": [
    "class Pipe(game.sprite.Sprite):\n",
    "    \n",
    "    def __init__(self):\n",
    "        self.x = screen_width - 2    #position of pipe at init\n",
    "        self.passed_flag = False    #flag that checks whether bird has crossed pipe or not\n",
    "        \n",
    "        self.sprite = game.Surface((pipe_width, screen_height), SRCALPHA)\n",
    "        self.sprite.convert()\n",
    "        self.sprite.fill((0,0,0,0))\n",
    "        \n",
    "        # Set the length of the total vertical length covered by the pipe pair on the screen\n",
    "        total_pipe_body_pieces = int((screen_height - 3*bird_height - 3*pipe_piece_height)/pipe_piece_height)\n",
    "        \n",
    "        # Set the vertical length of the bottom piece of the pipe pair\n",
    "        self.bottom_pieces = random.randint(1, total_pipe_body_pieces - 1)\n",
    "        \n",
    "        # Set the vertical length of the to piece of the pipe pair\n",
    "        self.top_pieces = total_pipe_body_pieces - self.bottom_pieces\n",
    "        \n",
    "        #-> be me\n",
    "        #-> pipe.png\n",
    "        pipe_sprite = game.image.load(\"pipe.png\")\n",
    "        pipe_sprite = game.transform.scale(pipe_sprite, (pipe_width, 100))\n",
    "        \n",
    "        for i in range(1, self.bottom_pieces + 1):\n",
    "            piece_pos = (0, screen_height - i*pipe_piece_height)\n",
    "            self.sprite.blit(pipe_sprite, piece_pos)\n",
    "            \n",
    "        for i in range(self.top_pieces):\n",
    "            self.sprite.blit(pipe_sprite, (0, i*pipe_piece_height))\n",
    "            \n",
    "        self.top_pieces += 1\n",
    "        self.bottom_pieces += 1\n",
    "        self.bot_height = self.bottom_pieces*pipe_piece_height\n",
    "        \n",
    "        #collision detection\n",
    "        self.mask = game.mask.from_surface(self.sprite)\n",
    "    \n",
    "    #new bounding box pipe\n",
    "    @property\n",
    "    def rect(self):\n",
    "        return Rect(self.x, 0, pipe_width, pipe_piece_height)\n",
    "    #pipe on screen?\n",
    "    @property\n",
    "    def visible(self):\n",
    "        return -pipe_width<self.x<screen_width\n",
    "    #update x-coordinates\n",
    "    def update(self):\n",
    "        self.x -= pipe_scroll_speed\n",
    "    #bird collides with pipe?\n",
    "    def collides_with(self, bird):\n",
    "        return game.sprite.collide_mask(self, bird)"
   ]
  },
  {
   "cell_type": "code",
   "execution_count": 5,
   "metadata": {
    "collapsed": true
   },
   "outputs": [],
   "source": [
    "def play(headless=False, ai=None):\n",
    "    \n",
    "    bird = Bird()\n",
    "    pipes = deque()\n",
    "    frame=0\n",
    "    score=0\n",
    "    done=False\n",
    "    \n",
    "    while True:\n",
    "        #draw bird on screen\n",
    "        bird.update_no_flap()\n",
    "        if not headless:\n",
    "            screen.fill((0, 255, 255))\n",
    "            screen.blit(bird.sprite, (bird.x, bird.y))\n",
    "        if frame%pipe_add_rate == 0:\n",
    "            p = Pipe()\n",
    "            pipes.append(p)\n",
    "        #collision?\n",
    "        collision_detected = any(p.collides_with(bird) for p in pipes)\n",
    "        if bird.y > 600 or bird.y < 0 or collision_detected:\n",
    "            break\n",
    "        while pipes and not pipes[0].visible:\n",
    "            pipes.popleft()\n",
    "        #Bird crosses pipe\n",
    "        for p in pipes:\n",
    "            if p.x + pipe_width/2 <  bird.x and not p.passed_flag:\n",
    "                p.passed_flag += True    #score increased by 1\n",
    "                score += 1\n",
    "            p.update()\n",
    "            \n",
    "            if not headless:\n",
    "                screen.blit(p.sprite, (p.x, 0))\n",
    "                \n",
    "        if not ai:\n",
    "            for event in game.event.get():\n",
    "                if event.type == game.QUIT:\n",
    "                    break\n",
    "                if event.type == game.KEYDOWN and event.key == game.K_SPACE:\n",
    "                    bird.update_flap()\n",
    "        elif ai.forward([bird.x - pipes[0].x, screen_height - bird.y - pipes[0].bot_height]) > 0.5:\n",
    "            bird.update_flap()\n",
    "        label = myfont.render(\"Score = \" + str(score), 1, (255, 100, 0))\n",
    "        screen.blit(label, (316, 40))\n",
    "        \n",
    "        if not headless:\n",
    "            game.display.flip()\n",
    "        frame += 1\n",
    "    print('Score: ' + str(score))\n",
    "    return score"
   ]
  },
  {
   "cell_type": "code",
   "execution_count": 18,
   "metadata": {},
   "outputs": [
    {
     "name": "stdout",
     "output_type": "stream",
     "text": [
      "Score: 1\n"
     ]
    },
    {
     "data": {
      "text/plain": [
       "1"
      ]
     },
     "execution_count": 18,
     "metadata": {},
     "output_type": "execute_result"
    }
   ],
   "source": [
    "play()"
   ]
  },
  {
   "cell_type": "code",
   "execution_count": null,
   "metadata": {
    "collapsed": true
   },
   "outputs": [],
   "source": []
  }
 ],
 "metadata": {
  "kernelspec": {
   "display_name": "Python 3",
   "language": "python",
   "name": "python3"
  },
  "language_info": {
   "codemirror_mode": {
    "name": "ipython",
    "version": 3
   },
   "file_extension": ".py",
   "mimetype": "text/x-python",
   "name": "python",
   "nbconvert_exporter": "python",
   "pygments_lexer": "ipython3",
   "version": "3.6.3"
  }
 },
 "nbformat": 4,
 "nbformat_minor": 2
}
