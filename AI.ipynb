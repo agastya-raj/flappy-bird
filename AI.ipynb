{
 "cells": [
  {
   "cell_type": "code",
   "execution_count": 1,
   "metadata": {
    "collapsed": true
   },
   "outputs": [],
   "source": [
    "import numpy as np"
   ]
  },
  {
   "cell_type": "code",
   "execution_count": 2,
   "metadata": {
    "collapsed": true
   },
   "outputs": [],
   "source": [
    "crossing_over_rate = 0.9\n",
    "mutation_rate = 0.05\n",
    "generations = 50    #number of generations for which the program is trained\n",
    "netsize = 20    #number of neural nets to be generated in each generation"
   ]
  },
  {
   "cell_type": "code",
   "execution_count": 3,
   "metadata": {
    "collapsed": true
   },
   "outputs": [],
   "source": [
    "base = np.zeros((5,2))   #the initial values of the chromosome"
   ]
  },
  {
   "cell_type": "code",
   "execution_count": null,
   "metadata": {
    "collapsed": true
   },
   "outputs": [],
   "source": [
    "##base array of dimensions (4,2)\n",
    "base = [[node1_weight1, node1_weight2],\n",
    "        [node2_weight1, node2_weight2],\n",
    "        [node1_bias, node2_bias],\n",
    "        [output_weight1, output_weight2],\n",
    "        [output_bias, 0]]\n",
    "\n",
    "class NeuralNet():\n",
    "    \n",
    "    \n",
    "    \"\"\"Input must be of the shape (1,2)\"\"\"\n",
    "    def __init__(self, weights=None):\n",
    "        self.input_nodes = 2\n",
    "        self.output_nodes = 1\n",
    "        if weights:\n",
    "            self.assign_weights(weights)\n",
    "        else:\n",
    "            weights = np.zeros((3,2))\n",
    "            for i in range(5):\n",
    "                for j in range(2):\n",
    "                    weights[i][j] = np.random.triangular(base[i][j] - 0.3, base[i][j], base[i][j] + 0.3)\n",
    "            self.assign_weights(weights)\n",
    "        \n",
    "    def sigmoid(self, z):\n",
    "        return 1/(1+np.exp(-z))\n",
    "    \n",
    "    def forward(self, input_values):\n",
    "        z1 = np.dot(input_values, self.weights1) + self.bias1\n",
    "        a1 = self.sigmoid(z1)\n",
    "        z2 = np.dot(a1, self.weights2) + self.bias2\n",
    "        a2 = sigmoid(z2)\n",
    "        return a2\n",
    "    \n",
    "    def assign_weights(self, weights):\n",
    "        self.weights1 = weights[:2]    #shape (2,2)\n",
    "        self.bias1 = weights[2].reshape(1,2)    #shape (1,2)\n",
    "        self.weights2 = weights[3].reshape(2,1)    #shape (1,2)\n",
    "        self.bias2 = weights[4][0]    #float\n",
    "\n",
    "########################    Genetic Algorithm    #############################\n",
    "\n",
    "def performance(n):\n",
    "    return play(True, n)    #True represents playing without displaying\n",
    "\n",
    "def update_weights(n1, n2):\n",
    "    "
   ]
  }
 ],
 "metadata": {
  "kernelspec": {
   "display_name": "Python 3",
   "language": "python",
   "name": "python3"
  },
  "language_info": {
   "codemirror_mode": {
    "name": "ipython",
    "version": 3
   },
   "file_extension": ".py",
   "mimetype": "text/x-python",
   "name": "python",
   "nbconvert_exporter": "python",
   "pygments_lexer": "ipython3",
   "version": "3.6.3"
  }
 },
 "nbformat": 4,
 "nbformat_minor": 2
}
